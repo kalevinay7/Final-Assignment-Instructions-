{
 "cells": [
  {
   "cell_type": "markdown",
   "id": "4ab2464b-3803-4015-bda3-9520b1ee5d61",
   "metadata": {},
   "source": [
    "# Data Science Tools and Ecosystem using"
   ]
  },
  {
   "cell_type": "markdown",
   "id": "4a82ac63-a42e-43ab-bc2b-7112a0221767",
   "metadata": {},
   "source": [
    "In this notebook, Data Science Tools and Ecosystem are summarized."
   ]
  },
  {
   "cell_type": "markdown",
   "id": "6db89d54-bedf-4434-8eb6-b8ca0d737633",
   "metadata": {},
   "source": [
    "Some of the popular languages that Data Scientists use are\n",
    "1.Python\n",
    "2.R\n",
    "3.SQL\n",
    "4.Julia\n",
    "5.Scala"
   ]
  },
  {
   "cell_type": "markdown",
   "id": "4c4d79d9-716a-4685-94a1-8b83c64aaa2d",
   "metadata": {},
   "source": [
    "Some of the commonly used libraries used by Data Scientists include\n",
    "1.Pandas\n",
    "2.Numpy\n",
    "3.Scikit-learn\n",
    "4.Tensorflow\n",
    "5.PyTorch\n",
    "6.Matplotlib"
   ]
  },
  {
   "cell_type": "markdown",
   "id": "f471912d-c1cc-4639-9f7d-8c9c07846fde",
   "metadata": {},
   "source": [
    "|   Data Science Tools   |\n",
    "|_ _ _ _ _ _ _ _ _ _ _ _ |\n",
    "| Jupyter Notebook       |        \n",
    "| Rstudio                |\n",
    "| VS Code                |\n",
    "| Spyder                 |\n",
    "|                        |"
   ]
  },
  {
   "cell_type": "markdown",
   "id": "9a3acccd-fa0f-41ba-81c3-e3c8ac244108",
   "metadata": {},
   "source": [
    "### Below are a few examples of evaluating arithmetic expressions in Python"
   ]
  },
  {
   "cell_type": "code",
   "execution_count": 11,
   "id": "8d6a0bf2-5096-4973-95c6-3a86deee923d",
   "metadata": {},
   "outputs": [
    {
     "data": {
      "text/plain": [
       "17"
      ]
     },
     "execution_count": 11,
     "metadata": {},
     "output_type": "execute_result"
    }
   ],
   "source": [
    "(3*4)+5"
   ]
  },
  {
   "cell_type": "code",
   "execution_count": 13,
   "id": "559407e1-0679-41d3-96f9-7d17ed499de8",
   "metadata": {},
   "outputs": [
    {
     "data": {
      "text/plain": [
       "3.3333333333333335"
      ]
     },
     "execution_count": 13,
     "metadata": {},
     "output_type": "execute_result"
    }
   ],
   "source": [
    "# This will convert 200 minutes to hours by diving by 60\n",
    "200 / 60"
   ]
  },
  {
   "cell_type": "markdown",
   "id": "5bad3899-b0ab-4f3f-8af0-53458f4febd1",
   "metadata": {},
   "source": [
    "**Objectives**:\n",
    "- List popular languages for Data Science  \n",
    "- Identify common libraries used in Data Science  \n",
    "- Create tables and formatted text in Markdown  \n",
    "- Execute basic arithmetic operations in Python  \n",
    "- Convert units (e.g., minutes to hours) programmatically"
   ]
  },
  {
   "cell_type": "markdown",
   "id": "d4e9d026-1b63-460a-96f3-ff7fe0ae336b",
   "metadata": {},
   "source": [
    "##Author\n",
    "[Vinay Kale]"
   ]
  },
  {
   "cell_type": "code",
   "execution_count": null,
   "id": "45c27e36-e196-4a23-b511-dc893d496627",
   "metadata": {},
   "outputs": [],
   "source": []
  }
 ],
 "metadata": {
  "kernelspec": {
   "display_name": "Python [conda env:base] *",
   "language": "python",
   "name": "conda-base-py"
  },
  "language_info": {
   "codemirror_mode": {
    "name": "ipython",
    "version": 3
   },
   "file_extension": ".py",
   "mimetype": "text/x-python",
   "name": "python",
   "nbconvert_exporter": "python",
   "pygments_lexer": "ipython3",
   "version": "3.12.7"
  }
 },
 "nbformat": 4,
 "nbformat_minor": 5
}
